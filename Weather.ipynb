{
 "cells": [
  {
   "cell_type": "markdown",
   "metadata": {},
   "source": [
    "This is an example to use python and beautifulsoup to web scrapping weather data from website https://forecast.weather.gov/MapClick.php?lat=44.9207&lon=-92.9632#.YNjE0ehKiHs"
   ]
  },
  {
   "cell_type": "code",
   "execution_count": 4,
   "metadata": {},
   "outputs": [
    {
     "name": "stdout",
     "output_type": "stream",
     "text": [
      "<div class=\"tombstone-container\">\n",
      " <p class=\"period-name\">\n",
      "  This\n",
      "  <br/>\n",
      "  Afternoon\n",
      " </p>\n",
      " <p>\n",
      "  <img alt=\"This Afternoon: A 40 percent chance of showers and thunderstorms.  Mostly sunny, with a high near 79. West southwest wind around 5 mph. \" class=\"forecast-icon\" src=\"newimages/medium/hi_tsra40.png\" title=\"This Afternoon: A 40 percent chance of showers and thunderstorms.  Mostly sunny, with a high near 79. West southwest wind around 5 mph. \"/>\n",
      " </p>\n",
      " <p class=\"short-desc\">\n",
      "  Chance\n",
      "  <br/>\n",
      "  T-storms\n",
      " </p>\n",
      " <p class=\"temp temp-high\">\n",
      "  High: 79 °F\n",
      " </p>\n",
      "</div>\n"
     ]
    }
   ],
   "source": [
    "# Import Request and Beautifulsoup packages\n",
    "\n",
    "import requests\n",
    "from bs4 import BeautifulSoup\n",
    "\n",
    "# Using request.get to get the content from html\n",
    "page = requests.get(\"https://forecast.weather.gov/MapClick.php?lat=44.9207&lon=-92.9632#.YNjE0ehKiHs\")\n",
    "\n",
    "# Create an instance of BS class to parese the content\n",
    "soup = BeautifulSoup(page.content, 'html.parser')\n",
    "seven_day = soup.find(id=\"seven-day-forecast\")\n",
    "forecast_items = seven_day.find_all(class_=\"tombstone-container\")\n",
    "tonight = forecast_items[0]\n",
    "print(tonight.prettify())"
   ]
  },
  {
   "cell_type": "code",
   "execution_count": 5,
   "metadata": {},
   "outputs": [
    {
     "name": "stdout",
     "output_type": "stream",
     "text": [
      "ThisAfternoon\n",
      "ChanceT-storms\n",
      "High: 79 °F\n"
     ]
    }
   ],
   "source": [
    "# Extract the info from the page\n",
    "period = tonight.find(class_=\"period-name\").get_text()\n",
    "short_desc = tonight.find(class_=\"short-desc\").get_text()\n",
    "temp = tonight.find(class_=\"temp\").get_text()\n",
    "print(period)\n",
    "print(short_desc)\n",
    "print(temp)"
   ]
  },
  {
   "cell_type": "code",
   "execution_count": 6,
   "metadata": {},
   "outputs": [
    {
     "name": "stdout",
     "output_type": "stream",
     "text": [
      "This Afternoon: A 40 percent chance of showers and thunderstorms.  Mostly sunny, with a high near 79. West southwest wind around 5 mph. \n"
     ]
    }
   ],
   "source": [
    "img = tonight.find(\"img\")\n",
    "desc = img['title']\n",
    "print(desc)"
   ]
  },
  {
   "cell_type": "code",
   "execution_count": 7,
   "metadata": {},
   "outputs": [
    {
     "data": {
      "text/plain": [
       "['ThisAfternoon',\n",
       " 'Tonight',\n",
       " 'Monday',\n",
       " 'MondayNight',\n",
       " 'Tuesday',\n",
       " 'TuesdayNight',\n",
       " 'Wednesday',\n",
       " 'WednesdayNight',\n",
       " 'Thursday']"
      ]
     },
     "execution_count": 7,
     "metadata": {},
     "output_type": "execute_result"
    }
   ],
   "source": [
    "period_tags = seven_day.select(\".tombstone-container .period-name\")\n",
    "periods = [pt.get_text() for pt in period_tags]\n",
    "periods"
   ]
  },
  {
   "cell_type": "code",
   "execution_count": 9,
   "metadata": {},
   "outputs": [
    {
     "name": "stdout",
     "output_type": "stream",
     "text": [
      "['ChanceT-storms', 'ChanceT-storms thenPartly Cloudy', 'Mostly Sunnythen ChanceT-storms', 'ChanceT-storms', 'ChanceT-storms', 'Slight ChanceT-storms', 'Sunny thenSlight ChanceT-storms', 'Slight ChanceT-storms', 'Mostly Sunnythen SlightChanceT-storms']\n",
      "['High: 79 °F', 'Low: 65 °F', 'High: 83 °F', 'Low: 66 °F', 'High: 83 °F', 'Low: 65 °F', 'High: 86 °F', 'Low: 64 °F', 'High: 80 °F']\n",
      "['This Afternoon: A 40 percent chance of showers and thunderstorms.  Mostly sunny, with a high near 79. West southwest wind around 5 mph. ', 'Tonight: A 30 percent chance of showers and thunderstorms, mainly before 8pm.  Partly cloudy, with a low around 65. South southwest wind around 5 mph becoming calm  in the evening. ', 'Monday: A 50 percent chance of showers and thunderstorms, mainly after 3pm.  Mostly sunny, with a high near 83. Calm wind becoming south around 5 mph.  New rainfall amounts of less than a tenth of an inch, except higher amounts possible in thunderstorms. ', 'Monday Night: A 40 percent chance of showers and thunderstorms, mainly after 4am.  Mostly cloudy, with a low around 66. East wind around 5 mph becoming calm. ', 'Tuesday: A 50 percent chance of showers and thunderstorms.  Mostly sunny, with a high near 83. Calm wind becoming west northwest around 5 mph. ', 'Tuesday Night: A 20 percent chance of showers and thunderstorms before 1am.  Partly cloudy, with a low around 65. Northwest wind around 5 mph becoming calm  in the evening. ', 'Wednesday: A 20 percent chance of showers and thunderstorms after 1pm.  Sunny, with a high near 86. Calm wind becoming west northwest around 5 mph in the morning. ', 'Wednesday Night: A 20 percent chance of showers and thunderstorms.  Mostly clear, with a low around 64. West northwest wind around 5 mph becoming calm  in the evening. ', 'Thursday: A 20 percent chance of showers and thunderstorms after 1pm.  Sunny, with a high near 80. Northeast wind 5 to 10 mph. ']\n"
     ]
    }
   ],
   "source": [
    "short_descs = [sd.get_text() for sd in seven_day.select(\".tombstone-container .short-desc\")]\n",
    "temps = [t.get_text() for t in seven_day.select(\".tombstone-container .temp\")]\n",
    "descs = [d[\"title\"] for d in seven_day.select(\".tombstone-container img\")]\n",
    "print(short_descs)\n",
    "print(temps)\n",
    "print(descs)"
   ]
  },
  {
   "cell_type": "code",
   "execution_count": 10,
   "metadata": {},
   "outputs": [
    {
     "data": {
      "text/html": [
       "<div>\n",
       "<style scoped>\n",
       "    .dataframe tbody tr th:only-of-type {\n",
       "        vertical-align: middle;\n",
       "    }\n",
       "\n",
       "    .dataframe tbody tr th {\n",
       "        vertical-align: top;\n",
       "    }\n",
       "\n",
       "    .dataframe thead th {\n",
       "        text-align: right;\n",
       "    }\n",
       "</style>\n",
       "<table border=\"1\" class=\"dataframe\">\n",
       "  <thead>\n",
       "    <tr style=\"text-align: right;\">\n",
       "      <th></th>\n",
       "      <th>period</th>\n",
       "      <th>short_desc</th>\n",
       "      <th>temp</th>\n",
       "      <th>desc</th>\n",
       "    </tr>\n",
       "  </thead>\n",
       "  <tbody>\n",
       "    <tr>\n",
       "      <th>0</th>\n",
       "      <td>ThisAfternoon</td>\n",
       "      <td>ChanceT-storms</td>\n",
       "      <td>High: 79 °F</td>\n",
       "      <td>This Afternoon: A 40 percent chance of showers...</td>\n",
       "    </tr>\n",
       "    <tr>\n",
       "      <th>1</th>\n",
       "      <td>Tonight</td>\n",
       "      <td>ChanceT-storms thenPartly Cloudy</td>\n",
       "      <td>Low: 65 °F</td>\n",
       "      <td>Tonight: A 30 percent chance of showers and th...</td>\n",
       "    </tr>\n",
       "    <tr>\n",
       "      <th>2</th>\n",
       "      <td>Monday</td>\n",
       "      <td>Mostly Sunnythen ChanceT-storms</td>\n",
       "      <td>High: 83 °F</td>\n",
       "      <td>Monday: A 50 percent chance of showers and thu...</td>\n",
       "    </tr>\n",
       "    <tr>\n",
       "      <th>3</th>\n",
       "      <td>MondayNight</td>\n",
       "      <td>ChanceT-storms</td>\n",
       "      <td>Low: 66 °F</td>\n",
       "      <td>Monday Night: A 40 percent chance of showers a...</td>\n",
       "    </tr>\n",
       "    <tr>\n",
       "      <th>4</th>\n",
       "      <td>Tuesday</td>\n",
       "      <td>ChanceT-storms</td>\n",
       "      <td>High: 83 °F</td>\n",
       "      <td>Tuesday: A 50 percent chance of showers and th...</td>\n",
       "    </tr>\n",
       "    <tr>\n",
       "      <th>5</th>\n",
       "      <td>TuesdayNight</td>\n",
       "      <td>Slight ChanceT-storms</td>\n",
       "      <td>Low: 65 °F</td>\n",
       "      <td>Tuesday Night: A 20 percent chance of showers ...</td>\n",
       "    </tr>\n",
       "    <tr>\n",
       "      <th>6</th>\n",
       "      <td>Wednesday</td>\n",
       "      <td>Sunny thenSlight ChanceT-storms</td>\n",
       "      <td>High: 86 °F</td>\n",
       "      <td>Wednesday: A 20 percent chance of showers and ...</td>\n",
       "    </tr>\n",
       "    <tr>\n",
       "      <th>7</th>\n",
       "      <td>WednesdayNight</td>\n",
       "      <td>Slight ChanceT-storms</td>\n",
       "      <td>Low: 64 °F</td>\n",
       "      <td>Wednesday Night: A 20 percent chance of shower...</td>\n",
       "    </tr>\n",
       "    <tr>\n",
       "      <th>8</th>\n",
       "      <td>Thursday</td>\n",
       "      <td>Mostly Sunnythen SlightChanceT-storms</td>\n",
       "      <td>High: 80 °F</td>\n",
       "      <td>Thursday: A 20 percent chance of showers and t...</td>\n",
       "    </tr>\n",
       "  </tbody>\n",
       "</table>\n",
       "</div>"
      ],
      "text/plain": [
       "           period                             short_desc         temp  \\\n",
       "0   ThisAfternoon                         ChanceT-storms  High: 79 °F   \n",
       "1         Tonight       ChanceT-storms thenPartly Cloudy   Low: 65 °F   \n",
       "2          Monday        Mostly Sunnythen ChanceT-storms  High: 83 °F   \n",
       "3     MondayNight                         ChanceT-storms   Low: 66 °F   \n",
       "4         Tuesday                         ChanceT-storms  High: 83 °F   \n",
       "5    TuesdayNight                  Slight ChanceT-storms   Low: 65 °F   \n",
       "6       Wednesday        Sunny thenSlight ChanceT-storms  High: 86 °F   \n",
       "7  WednesdayNight                  Slight ChanceT-storms   Low: 64 °F   \n",
       "8        Thursday  Mostly Sunnythen SlightChanceT-storms  High: 80 °F   \n",
       "\n",
       "                                                desc  \n",
       "0  This Afternoon: A 40 percent chance of showers...  \n",
       "1  Tonight: A 30 percent chance of showers and th...  \n",
       "2  Monday: A 50 percent chance of showers and thu...  \n",
       "3  Monday Night: A 40 percent chance of showers a...  \n",
       "4  Tuesday: A 50 percent chance of showers and th...  \n",
       "5  Tuesday Night: A 20 percent chance of showers ...  \n",
       "6  Wednesday: A 20 percent chance of showers and ...  \n",
       "7  Wednesday Night: A 20 percent chance of shower...  \n",
       "8  Thursday: A 20 percent chance of showers and t...  "
      ]
     },
     "execution_count": 10,
     "metadata": {},
     "output_type": "execute_result"
    }
   ],
   "source": [
    "# Combining all the data into a Pandas Dataframe\n",
    "\n",
    "import pandas as pd\n",
    "weather = pd.DataFrame({\n",
    "    \"period\": periods,\n",
    "    \"short_desc\": short_descs,\n",
    "    \"temp\": temps,\n",
    "    \"desc\":descs\n",
    "})\n",
    "weather"
   ]
  },
  {
   "cell_type": "code",
   "execution_count": 14,
   "metadata": {},
   "outputs": [],
   "source": [
    "# Write to excel\n",
    "\n",
    "writer = pd.ExcelWriter('file_name.xlsx', engine='xlsxwriter')\n",
    "weather.to_excel(writer)\n",
    "writer.save()"
   ]
  },
  {
   "cell_type": "code",
   "execution_count": 15,
   "metadata": {},
   "outputs": [
    {
     "data": {
      "text/plain": [
       "0    79\n",
       "1    65\n",
       "2    83\n",
       "3    66\n",
       "4    83\n",
       "5    65\n",
       "6    86\n",
       "7    64\n",
       "8    80\n",
       "Name: temp_num, dtype: object"
      ]
     },
     "execution_count": 15,
     "metadata": {},
     "output_type": "execute_result"
    }
   ],
   "source": [
    "# Analysis\n",
    "\n",
    "temp_nums = weather[\"temp\"].str.extract(\"(?P<temp_num>\\d+)\", expand=False)\n",
    "weather[\"temp_num\"] = temp_nums.astype('int')\n",
    "temp_nums"
   ]
  },
  {
   "cell_type": "code",
   "execution_count": 16,
   "metadata": {},
   "outputs": [
    {
     "data": {
      "text/plain": [
       "74.55555555555556"
      ]
     },
     "execution_count": 16,
     "metadata": {},
     "output_type": "execute_result"
    }
   ],
   "source": [
    "weather[\"temp_num\"].mean()"
   ]
  },
  {
   "cell_type": "code",
   "execution_count": null,
   "metadata": {},
   "outputs": [],
   "source": []
  }
 ],
 "metadata": {
  "kernelspec": {
   "display_name": "Python 3",
   "language": "python",
   "name": "python3"
  },
  "language_info": {
   "codemirror_mode": {
    "name": "ipython",
    "version": 3
   },
   "file_extension": ".py",
   "mimetype": "text/x-python",
   "name": "python",
   "nbconvert_exporter": "python",
   "pygments_lexer": "ipython3",
   "version": "3.7.6"
  }
 },
 "nbformat": 4,
 "nbformat_minor": 4
}
